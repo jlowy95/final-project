{
 "cells": [
  {
   "cell_type": "code",
   "execution_count": 1,
   "metadata": {},
   "outputs": [
    {
     "name": "stderr",
     "output_type": "stream",
     "text": [
      "/Users/JLow/anaconda3/lib/python3.7/importlib/_bootstrap.py:219: RuntimeWarning: numpy.ufunc size changed, may indicate binary incompatibility. Expected 192 from C header, got 216 from PyObject\n",
      "  return f(*args, **kwds)\n"
     ]
    }
   ],
   "source": [
    "import pandas as pd\n",
    "from sklearn.model_selection import train_test_split\n",
    "import numpy as np\n",
    "from sklearn.preprocessing import StandardScaler"
   ]
  },
  {
   "cell_type": "code",
   "execution_count": 2,
   "metadata": {},
   "outputs": [
    {
     "data": {
      "text/html": [
       "<div>\n",
       "<style scoped>\n",
       "    .dataframe tbody tr th:only-of-type {\n",
       "        vertical-align: middle;\n",
       "    }\n",
       "\n",
       "    .dataframe tbody tr th {\n",
       "        vertical-align: top;\n",
       "    }\n",
       "\n",
       "    .dataframe thead th {\n",
       "        text-align: right;\n",
       "    }\n",
       "</style>\n",
       "<table border=\"1\" class=\"dataframe\">\n",
       "  <thead>\n",
       "    <tr style=\"text-align: right;\">\n",
       "      <th></th>\n",
       "      <th>city_Antelope</th>\n",
       "      <th>city_Carmichael</th>\n",
       "      <th>city_Citrus Heights</th>\n",
       "      <th>city_Clarksburg</th>\n",
       "      <th>city_Elk Grove</th>\n",
       "      <th>city_Elverta</th>\n",
       "      <th>city_Fair Oaks</th>\n",
       "      <th>city_Folsom</th>\n",
       "      <th>city_Gold River</th>\n",
       "      <th>city_Mather</th>\n",
       "      <th>...</th>\n",
       "      <th>zipcode_95864</th>\n",
       "      <th>beds</th>\n",
       "      <th>baths</th>\n",
       "      <th>square_footage</th>\n",
       "      <th>lot_size</th>\n",
       "      <th>year_built</th>\n",
       "      <th>num_rooms</th>\n",
       "      <th>num_parking</th>\n",
       "      <th>num_stories</th>\n",
       "      <th>price</th>\n",
       "    </tr>\n",
       "  </thead>\n",
       "  <tbody>\n",
       "    <tr>\n",
       "      <th>0</th>\n",
       "      <td>0</td>\n",
       "      <td>0</td>\n",
       "      <td>0</td>\n",
       "      <td>0</td>\n",
       "      <td>0</td>\n",
       "      <td>0</td>\n",
       "      <td>0</td>\n",
       "      <td>0</td>\n",
       "      <td>0</td>\n",
       "      <td>0</td>\n",
       "      <td>...</td>\n",
       "      <td>0</td>\n",
       "      <td>4.0</td>\n",
       "      <td>2.0</td>\n",
       "      <td>1689.0</td>\n",
       "      <td>11325.6</td>\n",
       "      <td>1946.0</td>\n",
       "      <td>8.0</td>\n",
       "      <td>1.0</td>\n",
       "      <td>1.0</td>\n",
       "      <td>390000</td>\n",
       "    </tr>\n",
       "    <tr>\n",
       "      <th>1</th>\n",
       "      <td>0</td>\n",
       "      <td>0</td>\n",
       "      <td>0</td>\n",
       "      <td>0</td>\n",
       "      <td>0</td>\n",
       "      <td>0</td>\n",
       "      <td>0</td>\n",
       "      <td>0</td>\n",
       "      <td>0</td>\n",
       "      <td>0</td>\n",
       "      <td>...</td>\n",
       "      <td>0</td>\n",
       "      <td>5.0</td>\n",
       "      <td>3.0</td>\n",
       "      <td>3020.0</td>\n",
       "      <td>6199.0</td>\n",
       "      <td>2016.0</td>\n",
       "      <td>9.0</td>\n",
       "      <td>3.0</td>\n",
       "      <td>2.0</td>\n",
       "      <td>529900</td>\n",
       "    </tr>\n",
       "    <tr>\n",
       "      <th>2</th>\n",
       "      <td>0</td>\n",
       "      <td>0</td>\n",
       "      <td>0</td>\n",
       "      <td>0</td>\n",
       "      <td>0</td>\n",
       "      <td>0</td>\n",
       "      <td>0</td>\n",
       "      <td>0</td>\n",
       "      <td>0</td>\n",
       "      <td>0</td>\n",
       "      <td>...</td>\n",
       "      <td>0</td>\n",
       "      <td>4.0</td>\n",
       "      <td>2.0</td>\n",
       "      <td>1420.0</td>\n",
       "      <td>4729.0</td>\n",
       "      <td>1983.0</td>\n",
       "      <td>7.0</td>\n",
       "      <td>2.0</td>\n",
       "      <td>1.0</td>\n",
       "      <td>368900</td>\n",
       "    </tr>\n",
       "    <tr>\n",
       "      <th>3</th>\n",
       "      <td>0</td>\n",
       "      <td>0</td>\n",
       "      <td>0</td>\n",
       "      <td>0</td>\n",
       "      <td>0</td>\n",
       "      <td>0</td>\n",
       "      <td>0</td>\n",
       "      <td>0</td>\n",
       "      <td>0</td>\n",
       "      <td>0</td>\n",
       "      <td>...</td>\n",
       "      <td>0</td>\n",
       "      <td>4.0</td>\n",
       "      <td>3.0</td>\n",
       "      <td>2918.0</td>\n",
       "      <td>7439.0</td>\n",
       "      <td>1998.0</td>\n",
       "      <td>9.0</td>\n",
       "      <td>2.0</td>\n",
       "      <td>2.0</td>\n",
       "      <td>470000</td>\n",
       "    </tr>\n",
       "    <tr>\n",
       "      <th>4</th>\n",
       "      <td>0</td>\n",
       "      <td>0</td>\n",
       "      <td>0</td>\n",
       "      <td>0</td>\n",
       "      <td>0</td>\n",
       "      <td>0</td>\n",
       "      <td>0</td>\n",
       "      <td>0</td>\n",
       "      <td>0</td>\n",
       "      <td>0</td>\n",
       "      <td>...</td>\n",
       "      <td>0</td>\n",
       "      <td>4.0</td>\n",
       "      <td>3.0</td>\n",
       "      <td>1903.0</td>\n",
       "      <td>6970.0</td>\n",
       "      <td>1955.0</td>\n",
       "      <td>7.0</td>\n",
       "      <td>2.0</td>\n",
       "      <td>1.0</td>\n",
       "      <td>375000</td>\n",
       "    </tr>\n",
       "  </tbody>\n",
       "</table>\n",
       "<p>5 rows × 292 columns</p>\n",
       "</div>"
      ],
      "text/plain": [
       "   city_Antelope  city_Carmichael  city_Citrus Heights  city_Clarksburg  \\\n",
       "0              0                0                    0                0   \n",
       "1              0                0                    0                0   \n",
       "2              0                0                    0                0   \n",
       "3              0                0                    0                0   \n",
       "4              0                0                    0                0   \n",
       "\n",
       "   city_Elk Grove  city_Elverta  city_Fair Oaks  city_Folsom  city_Gold River  \\\n",
       "0               0             0               0            0                0   \n",
       "1               0             0               0            0                0   \n",
       "2               0             0               0            0                0   \n",
       "3               0             0               0            0                0   \n",
       "4               0             0               0            0                0   \n",
       "\n",
       "   city_Mather  ...  zipcode_95864  beds  baths  square_footage  lot_size  \\\n",
       "0            0  ...              0   4.0    2.0          1689.0   11325.6   \n",
       "1            0  ...              0   5.0    3.0          3020.0    6199.0   \n",
       "2            0  ...              0   4.0    2.0          1420.0    4729.0   \n",
       "3            0  ...              0   4.0    3.0          2918.0    7439.0   \n",
       "4            0  ...              0   4.0    3.0          1903.0    6970.0   \n",
       "\n",
       "   year_built  num_rooms  num_parking  num_stories   price  \n",
       "0      1946.0        8.0          1.0          1.0  390000  \n",
       "1      2016.0        9.0          3.0          2.0  529900  \n",
       "2      1983.0        7.0          2.0          1.0  368900  \n",
       "3      1998.0        9.0          2.0          2.0  470000  \n",
       "4      1955.0        7.0          2.0          1.0  375000  \n",
       "\n",
       "[5 rows x 292 columns]"
      ]
     },
     "execution_count": 2,
     "metadata": {},
     "output_type": "execute_result"
    }
   ],
   "source": [
    "buys = pd.read_csv('../preProcessing/buys_encoded.csv', index_col=0)\n",
    "buys.head()"
   ]
  },
  {
   "cell_type": "code",
   "execution_count": 49,
   "metadata": {},
   "outputs": [
    {
     "data": {
      "text/plain": [
       "(2335, 292)"
      ]
     },
     "execution_count": 49,
     "metadata": {},
     "output_type": "execute_result"
    }
   ],
   "source": [
    "buys.shape"
   ]
  },
  {
   "cell_type": "code",
   "execution_count": 31,
   "metadata": {},
   "outputs": [
    {
     "data": {
      "text/plain": [
       "array([[390000],\n",
       "       [529900],\n",
       "       [368900],\n",
       "       ...,\n",
       "       [455500],\n",
       "       [736769],\n",
       "       [246240]])"
      ]
     },
     "execution_count": 31,
     "metadata": {},
     "output_type": "execute_result"
    }
   ],
   "source": [
    "X_buys = buys.iloc[:,:-1]\n",
    "y_buys = buys['price'].values.reshape(-1,1)\n",
    "y_buys"
   ]
  },
  {
   "cell_type": "code",
   "execution_count": 6,
   "metadata": {},
   "outputs": [
    {
     "data": {
      "text/html": [
       "<div>\n",
       "<style scoped>\n",
       "    .dataframe tbody tr th:only-of-type {\n",
       "        vertical-align: middle;\n",
       "    }\n",
       "\n",
       "    .dataframe tbody tr th {\n",
       "        vertical-align: top;\n",
       "    }\n",
       "\n",
       "    .dataframe thead th {\n",
       "        text-align: right;\n",
       "    }\n",
       "</style>\n",
       "<table border=\"1\" class=\"dataframe\">\n",
       "  <thead>\n",
       "    <tr style=\"text-align: right;\">\n",
       "      <th></th>\n",
       "      <th>city_Antelope</th>\n",
       "      <th>city_Carmichael</th>\n",
       "      <th>city_Citrus Heights</th>\n",
       "      <th>city_Clarksburg</th>\n",
       "      <th>city_Elk Grove</th>\n",
       "      <th>city_Elverta</th>\n",
       "      <th>city_Fair Oaks</th>\n",
       "      <th>city_Folsom</th>\n",
       "      <th>city_Gold River</th>\n",
       "      <th>city_Mather</th>\n",
       "      <th>...</th>\n",
       "      <th>zipcode_95843</th>\n",
       "      <th>zipcode_95864</th>\n",
       "      <th>beds</th>\n",
       "      <th>baths</th>\n",
       "      <th>square_footage</th>\n",
       "      <th>lot_size</th>\n",
       "      <th>year_built</th>\n",
       "      <th>num_rooms</th>\n",
       "      <th>num_parking</th>\n",
       "      <th>num_stories</th>\n",
       "    </tr>\n",
       "  </thead>\n",
       "  <tbody>\n",
       "    <tr>\n",
       "      <th>610</th>\n",
       "      <td>0</td>\n",
       "      <td>0</td>\n",
       "      <td>0</td>\n",
       "      <td>0</td>\n",
       "      <td>0</td>\n",
       "      <td>0</td>\n",
       "      <td>0</td>\n",
       "      <td>0</td>\n",
       "      <td>0</td>\n",
       "      <td>0</td>\n",
       "      <td>...</td>\n",
       "      <td>0</td>\n",
       "      <td>0</td>\n",
       "      <td>9.0</td>\n",
       "      <td>8.0</td>\n",
       "      <td>4209.0</td>\n",
       "      <td>6534.0</td>\n",
       "      <td>1880.0</td>\n",
       "      <td>6.0</td>\n",
       "      <td>4.0</td>\n",
       "      <td>3.0</td>\n",
       "    </tr>\n",
       "    <tr>\n",
       "      <th>2762</th>\n",
       "      <td>0</td>\n",
       "      <td>0</td>\n",
       "      <td>1</td>\n",
       "      <td>0</td>\n",
       "      <td>0</td>\n",
       "      <td>0</td>\n",
       "      <td>0</td>\n",
       "      <td>0</td>\n",
       "      <td>0</td>\n",
       "      <td>0</td>\n",
       "      <td>...</td>\n",
       "      <td>0</td>\n",
       "      <td>0</td>\n",
       "      <td>3.0</td>\n",
       "      <td>2.0</td>\n",
       "      <td>1708.0</td>\n",
       "      <td>9148.0</td>\n",
       "      <td>1979.0</td>\n",
       "      <td>6.0</td>\n",
       "      <td>2.0</td>\n",
       "      <td>1.0</td>\n",
       "    </tr>\n",
       "    <tr>\n",
       "      <th>1196</th>\n",
       "      <td>0</td>\n",
       "      <td>0</td>\n",
       "      <td>0</td>\n",
       "      <td>0</td>\n",
       "      <td>0</td>\n",
       "      <td>0</td>\n",
       "      <td>0</td>\n",
       "      <td>0</td>\n",
       "      <td>0</td>\n",
       "      <td>0</td>\n",
       "      <td>...</td>\n",
       "      <td>0</td>\n",
       "      <td>0</td>\n",
       "      <td>2.0</td>\n",
       "      <td>2.5</td>\n",
       "      <td>808.0</td>\n",
       "      <td>6098.0</td>\n",
       "      <td>1939.0</td>\n",
       "      <td>4.0</td>\n",
       "      <td>1.0</td>\n",
       "      <td>1.0</td>\n",
       "    </tr>\n",
       "    <tr>\n",
       "      <th>1334</th>\n",
       "      <td>0</td>\n",
       "      <td>0</td>\n",
       "      <td>0</td>\n",
       "      <td>0</td>\n",
       "      <td>1</td>\n",
       "      <td>0</td>\n",
       "      <td>0</td>\n",
       "      <td>0</td>\n",
       "      <td>0</td>\n",
       "      <td>0</td>\n",
       "      <td>...</td>\n",
       "      <td>0</td>\n",
       "      <td>0</td>\n",
       "      <td>3.0</td>\n",
       "      <td>3.0</td>\n",
       "      <td>1576.0</td>\n",
       "      <td>3171.0</td>\n",
       "      <td>2020.0</td>\n",
       "      <td>6.0</td>\n",
       "      <td>2.0</td>\n",
       "      <td>2.0</td>\n",
       "    </tr>\n",
       "    <tr>\n",
       "      <th>1005</th>\n",
       "      <td>0</td>\n",
       "      <td>0</td>\n",
       "      <td>0</td>\n",
       "      <td>0</td>\n",
       "      <td>0</td>\n",
       "      <td>0</td>\n",
       "      <td>0</td>\n",
       "      <td>0</td>\n",
       "      <td>0</td>\n",
       "      <td>0</td>\n",
       "      <td>...</td>\n",
       "      <td>0</td>\n",
       "      <td>0</td>\n",
       "      <td>4.0</td>\n",
       "      <td>3.0</td>\n",
       "      <td>3653.0</td>\n",
       "      <td>5996.0</td>\n",
       "      <td>2017.0</td>\n",
       "      <td>13.0</td>\n",
       "      <td>2.0</td>\n",
       "      <td>2.0</td>\n",
       "    </tr>\n",
       "  </tbody>\n",
       "</table>\n",
       "<p>5 rows × 291 columns</p>\n",
       "</div>"
      ],
      "text/plain": [
       "      city_Antelope  city_Carmichael  city_Citrus Heights  city_Clarksburg  \\\n",
       "610               0                0                    0                0   \n",
       "2762              0                0                    1                0   \n",
       "1196              0                0                    0                0   \n",
       "1334              0                0                    0                0   \n",
       "1005              0                0                    0                0   \n",
       "\n",
       "      city_Elk Grove  city_Elverta  city_Fair Oaks  city_Folsom  \\\n",
       "610                0             0               0            0   \n",
       "2762               0             0               0            0   \n",
       "1196               0             0               0            0   \n",
       "1334               1             0               0            0   \n",
       "1005               0             0               0            0   \n",
       "\n",
       "      city_Gold River  city_Mather  ...  zipcode_95843  zipcode_95864  beds  \\\n",
       "610                 0            0  ...              0              0   9.0   \n",
       "2762                0            0  ...              0              0   3.0   \n",
       "1196                0            0  ...              0              0   2.0   \n",
       "1334                0            0  ...              0              0   3.0   \n",
       "1005                0            0  ...              0              0   4.0   \n",
       "\n",
       "      baths  square_footage  lot_size  year_built  num_rooms  num_parking  \\\n",
       "610     8.0          4209.0    6534.0      1880.0        6.0          4.0   \n",
       "2762    2.0          1708.0    9148.0      1979.0        6.0          2.0   \n",
       "1196    2.5           808.0    6098.0      1939.0        4.0          1.0   \n",
       "1334    3.0          1576.0    3171.0      2020.0        6.0          2.0   \n",
       "1005    3.0          3653.0    5996.0      2017.0       13.0          2.0   \n",
       "\n",
       "      num_stories  \n",
       "610           3.0  \n",
       "2762          1.0  \n",
       "1196          1.0  \n",
       "1334          2.0  \n",
       "1005          2.0  \n",
       "\n",
       "[5 rows x 291 columns]"
      ]
     },
     "execution_count": 6,
     "metadata": {},
     "output_type": "execute_result"
    }
   ],
   "source": [
    "X_buys_train, X_buys_test, y_buys_train, y_buys_test = train_test_split(X_buys, y_buys, random_state=42)\n",
    "X_buys_train.head()"
   ]
  },
  {
   "cell_type": "code",
   "execution_count": 17,
   "metadata": {},
   "outputs": [],
   "source": [
    "X_buys_scaler = StandardScaler().fit(X_buys_train)\n",
    "y_buys_scaler = StandardScaler().fit(y_buys_train)"
   ]
  },
  {
   "cell_type": "code",
   "execution_count": 32,
   "metadata": {},
   "outputs": [
    {
     "data": {
      "text/plain": [
       "array([[ 2.52219791],\n",
       "       [-0.12741918],\n",
       "       [-0.66723408],\n",
       "       ...,\n",
       "       [-0.79042004],\n",
       "       [-0.25803878],\n",
       "       [-0.35668126]])"
      ]
     },
     "execution_count": 32,
     "metadata": {},
     "output_type": "execute_result"
    }
   ],
   "source": [
    "X_buys_train_scaled = X_buys_scaler.transform(X_buys_train)\n",
    "X_buys_test_scaled = X_buys_scaler.transform(X_buys_test)\n",
    "y_buys_train_scaled = y_buys_scaler.transform(y_buys_train)\n",
    "y_buys_test_scaled = y_buys_scaler.transform(y_buys_test)\n",
    "y_buys_train_scaled"
   ]
  },
  {
   "cell_type": "code",
   "execution_count": 9,
   "metadata": {},
   "outputs": [],
   "source": [
    "import tensorflow as tf\n",
    "\n",
    "from tensorflow import keras\n",
    "from tensorflow.keras import layers"
   ]
  },
  {
   "cell_type": "code",
   "execution_count": 21,
   "metadata": {},
   "outputs": [],
   "source": [
    "import tensorflow_docs as tfdocs\n",
    "import tensorflow_docs.plots\n",
    "import tensorflow_docs.modeling"
   ]
  },
  {
   "cell_type": "code",
   "execution_count": 97,
   "metadata": {},
   "outputs": [],
   "source": [
    "def build_model():\n",
    "  model = keras.Sequential([\n",
    "    layers.Dense(300, activation='relu', input_shape=[len(X_buys_train.columns)]),\n",
    "    layers.Dense(33, activation='relu'),\n",
    "    layers.Dense(1)\n",
    "  ])\n",
    "\n",
    "  optimizer = tf.keras.optimizers.RMSprop(0.001)\n",
    "\n",
    "  model.compile(loss='mse',\n",
    "                optimizer=optimizer,\n",
    "                metrics=['mae', 'mse'])\n",
    "  return model"
   ]
  },
  {
   "cell_type": "code",
   "execution_count": 98,
   "metadata": {},
   "outputs": [
    {
     "name": "stdout",
     "output_type": "stream",
     "text": [
      "Model: \"sequential_10\"\n",
      "_________________________________________________________________\n",
      "Layer (type)                 Output Shape              Param #   \n",
      "=================================================================\n",
      "dense_43 (Dense)             (None, 300)               87600     \n",
      "_________________________________________________________________\n",
      "dense_44 (Dense)             (None, 33)                9933      \n",
      "_________________________________________________________________\n",
      "dense_45 (Dense)             (None, 1)                 34        \n",
      "=================================================================\n",
      "Total params: 97,567\n",
      "Trainable params: 97,567\n",
      "Non-trainable params: 0\n",
      "_________________________________________________________________\n"
     ]
    }
   ],
   "source": [
    "model = build_model()\n",
    "\n",
    "model.summary()"
   ]
  },
  {
   "cell_type": "code",
   "execution_count": 99,
   "metadata": {},
   "outputs": [
    {
     "name": "stdout",
     "output_type": "stream",
     "text": [
      "\n",
      "Epoch: 0, loss:495184994444.4343,  mae:503146.4688,  mse:495185035264.0000,  val_loss:285969434863.2251,  val_mae:450746.7500,  val_mse:285969448960.0000,  \n",
      "....................................................................................................\n",
      "Epoch: 100, loss:145134298117.8514,  mae:171160.8281,  mse:145134305280.0000,  val_loss:81831553683.3276,  val_mae:186703.3750,  val_mse:81831559168.0000,  \n",
      "....................................................................................................\n",
      "Epoch: 200, loss:101032941029.6686,  mae:134613.1562,  mse:101032935424.0000,  val_loss:68112508863.8177,  val_mae:168754.3906,  val_mse:68112510976.0000,  \n",
      "....................................................................................................\n",
      "Epoch: 300, loss:78731133963.7029,  mae:115835.1094,  mse:78731116544.0000,  val_loss:65412638259.0541,  val_mae:159301.9531,  val_mse:65412636672.0000,  \n",
      ".........."
     ]
    }
   ],
   "source": [
    "EPOCHS = 1000\n",
    "\n",
    "early_stop = keras.callbacks.EarlyStopping(monitor='val_loss', patience=15)\n",
    "\n",
    "history = model.fit(\n",
    "  X_buys_train_scaled, y_buys_train,\n",
    "  epochs=EPOCHS, validation_split = 0.2, verbose=0,\n",
    "  callbacks=[early_stop, tfdocs.modeling.EpochDots()])"
   ]
  },
  {
   "cell_type": "code",
   "execution_count": 100,
   "metadata": {},
   "outputs": [
    {
     "data": {
      "text/html": [
       "<div>\n",
       "<style scoped>\n",
       "    .dataframe tbody tr th:only-of-type {\n",
       "        vertical-align: middle;\n",
       "    }\n",
       "\n",
       "    .dataframe tbody tr th {\n",
       "        vertical-align: top;\n",
       "    }\n",
       "\n",
       "    .dataframe thead th {\n",
       "        text-align: right;\n",
       "    }\n",
       "</style>\n",
       "<table border=\"1\" class=\"dataframe\">\n",
       "  <thead>\n",
       "    <tr style=\"text-align: right;\">\n",
       "      <th></th>\n",
       "      <th>loss</th>\n",
       "      <th>mae</th>\n",
       "      <th>mse</th>\n",
       "      <th>val_loss</th>\n",
       "      <th>val_mae</th>\n",
       "      <th>val_mse</th>\n",
       "      <th>epoch</th>\n",
       "    </tr>\n",
       "  </thead>\n",
       "  <tbody>\n",
       "    <tr>\n",
       "      <th>305</th>\n",
       "      <td>7.782373e+10</td>\n",
       "      <td>115021.414062</td>\n",
       "      <td>7.782373e+10</td>\n",
       "      <td>6.544277e+10</td>\n",
       "      <td>159099.968750</td>\n",
       "      <td>6.544277e+10</td>\n",
       "      <td>305</td>\n",
       "    </tr>\n",
       "    <tr>\n",
       "      <th>306</th>\n",
       "      <td>7.767677e+10</td>\n",
       "      <td>114915.289062</td>\n",
       "      <td>7.767678e+10</td>\n",
       "      <td>6.547774e+10</td>\n",
       "      <td>159121.203125</td>\n",
       "      <td>6.547775e+10</td>\n",
       "      <td>306</td>\n",
       "    </tr>\n",
       "    <tr>\n",
       "      <th>307</th>\n",
       "      <td>7.743532e+10</td>\n",
       "      <td>114960.757812</td>\n",
       "      <td>7.743531e+10</td>\n",
       "      <td>6.547001e+10</td>\n",
       "      <td>159012.828125</td>\n",
       "      <td>6.547001e+10</td>\n",
       "      <td>307</td>\n",
       "    </tr>\n",
       "    <tr>\n",
       "      <th>308</th>\n",
       "      <td>7.728696e+10</td>\n",
       "      <td>114664.671875</td>\n",
       "      <td>7.728697e+10</td>\n",
       "      <td>6.549828e+10</td>\n",
       "      <td>158994.265625</td>\n",
       "      <td>6.549828e+10</td>\n",
       "      <td>308</td>\n",
       "    </tr>\n",
       "    <tr>\n",
       "      <th>309</th>\n",
       "      <td>7.728698e+10</td>\n",
       "      <td>114221.500000</td>\n",
       "      <td>7.728697e+10</td>\n",
       "      <td>6.539553e+10</td>\n",
       "      <td>158720.328125</td>\n",
       "      <td>6.539553e+10</td>\n",
       "      <td>309</td>\n",
       "    </tr>\n",
       "  </tbody>\n",
       "</table>\n",
       "</div>"
      ],
      "text/plain": [
       "             loss            mae           mse      val_loss        val_mae  \\\n",
       "305  7.782373e+10  115021.414062  7.782373e+10  6.544277e+10  159099.968750   \n",
       "306  7.767677e+10  114915.289062  7.767678e+10  6.547774e+10  159121.203125   \n",
       "307  7.743532e+10  114960.757812  7.743531e+10  6.547001e+10  159012.828125   \n",
       "308  7.728696e+10  114664.671875  7.728697e+10  6.549828e+10  158994.265625   \n",
       "309  7.728698e+10  114221.500000  7.728697e+10  6.539553e+10  158720.328125   \n",
       "\n",
       "          val_mse  epoch  \n",
       "305  6.544277e+10    305  \n",
       "306  6.547775e+10    306  \n",
       "307  6.547001e+10    307  \n",
       "308  6.549828e+10    308  \n",
       "309  6.539553e+10    309  "
      ]
     },
     "execution_count": 100,
     "metadata": {},
     "output_type": "execute_result"
    }
   ],
   "source": [
    "hist = pd.DataFrame(history.history)\n",
    "hist['epoch'] = history.epoch\n",
    "hist.tail()"
   ]
  },
  {
   "cell_type": "code",
   "execution_count": 101,
   "metadata": {},
   "outputs": [],
   "source": [
    "plotter = tfdocs.plots.HistoryPlotter(smoothing_std=2)"
   ]
  },
  {
   "cell_type": "code",
   "execution_count": 102,
   "metadata": {},
   "outputs": [
    {
     "data": {
      "text/plain": [
       "Text(0, 0.5, 'MAE [Price]')"
      ]
     },
     "execution_count": 102,
     "metadata": {},
     "output_type": "execute_result"
    },
    {
     "data": {
      "image/png": "[encoded data removed]",
      "text/plain": [
       "<Figure size 432x288 with 1 Axes>"
      ]
     },
     "metadata": {
      "needs_background": "light"
     },
     "output_type": "display_data"
    }
   ],
   "source": [
    "import matplotlib.pyplot as plt\n",
    "\n",
    "plotter.plot({'Basic': history}, metric = \"mae\")\n",
    "plt.ylim([0, 1000000])\n",
    "plt.ylabel('MAE [Price]')"
   ]
  },
  {
   "cell_type": "code",
   "execution_count": 103,
   "metadata": {},
   "outputs": [
    {
     "data": {
      "text/plain": [
       "Text(0, 0.5, 'MSE [Price^2]')"
      ]
     },
     "execution_count": 103,
     "metadata": {},
     "output_type": "execute_result"
    },
    {
     "data": {
      "image/png": "[encoded data removed]",
      "text/plain": [
       "<Figure size 432x288 with 1 Axes>"
      ]
     },
     "metadata": {
      "needs_background": "light"
     },
     "output_type": "display_data"
    }
   ],
   "source": [
    "plotter.plot({'Basic': history}, metric = \"mse\")\n",
    "plt.ylim([0, 1000000000000])\n",
    "plt.ylabel('MSE [Price^2]')"
   ]
  },
  {
   "cell_type": "code",
   "execution_count": 106,
   "metadata": {},
   "outputs": [
    {
     "data": {
      "image/png": "[encoded data removed]",
      "text/plain": [
       "<Figure size 432x288 with 1 Axes>"
      ]
     },
     "metadata": {
      "needs_background": "light"
     },
     "output_type": "display_data"
    }
   ],
   "source": [
    "test_predictions = model.predict(X_buys_test_scaled).flatten()\n",
    "\n",
    "a = plt.axes(aspect='equal')\n",
    "plt.scatter(y_buys_test, test_predictions)\n",
    "plt.xlabel('True Values [Price]')\n",
    "plt.ylabel('Predictions [Price]')\n",
    "lims = [0, 900000]\n",
    "plt.xlim(lims)\n",
    "plt.ylim(lims)\n",
    "_ = plt.plot(lims, lims)\n"
   ]
  },
  {
   "cell_type": "code",
   "execution_count": 107,
   "metadata": {},
   "outputs": [
    {
     "data": {
      "image/png": "[encoded data removed]",
      "text/plain": [
       "<Figure size 432x288 with 1 Axes>"
      ]
     },
     "metadata": {
      "needs_background": "light"
     },
     "output_type": "display_data"
    }
   ],
   "source": [
    "error = test_predictions - y_buys_test\n",
    "plt.hist(error, bins = 25)\n",
    "plt.xlabel(\"Prediction Error [Price]\")\n",
    "_ = plt.ylabel(\"Count\")"
   ]
  },
  {
   "cell_type": "code",
   "execution_count": null,
   "metadata": {},
   "outputs": [],
   "source": []
  }
 ],
 "metadata": {
  "kernelspec": {
   "display_name": "Python 3",
   "language": "python",
   "name": "python3"
  },
  "language_info": {
   "codemirror_mode": {
    "name": "ipython",
    "version": 3
   },
   "file_extension": ".py",
   "mimetype": "text/x-python",
   "name": "python",
   "nbconvert_exporter": "python",
   "pygments_lexer": "ipython3",
   "version": "3.7.3"
  }
 },
 "nbformat": 4,
 "nbformat_minor": 4
}
