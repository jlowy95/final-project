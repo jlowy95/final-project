{
 "cells": [
  {
   "cell_type": "code",
   "execution_count": null,
   "metadata": {},
   "outputs": [],
   "source": [
    "# Import dependencies\n",
    "from sklearn.model_selection import train_test_split\n",
    "import pandas as pd\n",
    "import numpy as np\n",
    "import matplotlib.pyplot as plt\n",
    "from sklearn.linear_model import LinearRegression"
   ]
  },
  {
   "cell_type": "code",
   "execution_count": null,
   "metadata": {},
   "outputs": [],
   "source": [
    "# Read in encoded data\n",
    "# buys = pd.read_csv('../preProcessing/buys_encoded.csv', index_col=0)\n",
    "buys = pd.read_csv('../preProcessing/rents_encoded.csv', index_col=0)"
   ]
  },
  {
   "cell_type": "code",
   "execution_count": null,
   "metadata": {},
   "outputs": [],
   "source": [
    "buys.head()"
   ]
  },
  {
   "cell_type": "code",
   "execution_count": null,
   "metadata": {},
   "outputs": [],
   "source": [
    "print(len(buys))\n",
    "buys = buys.drop_duplicates()\n",
    "print(len(buys))"
   ]
  },
  {
   "cell_type": "code",
   "execution_count": null,
   "metadata": {},
   "outputs": [],
   "source": [
    "price_mean = buys['price'].mean()\n",
    "price_std = buys['price'].std()\n",
    "buys.loc[buys['price']>=(price_mean+2*price_std),:]"
   ]
  },
  {
   "cell_type": "code",
   "execution_count": null,
   "metadata": {},
   "outputs": [],
   "source": [
    "37/len(buys)*100"
   ]
  },
  {
   "cell_type": "markdown",
   "metadata": {},
   "source": [
    "## Buys Modeling"
   ]
  },
  {
   "cell_type": "code",
   "execution_count": null,
   "metadata": {},
   "outputs": [],
   "source": [
    "# Separate input/output data ('price' is our output)\n",
    "X_buys = buys.iloc[:,0:-1]\n",
    "y_buys = buys['price'].values.reshape(-1,1)"
   ]
  },
  {
   "cell_type": "code",
   "execution_count": null,
   "metadata": {},
   "outputs": [],
   "source": [
    "# Train_test_split\n",
    "X_buys_train, X_buys_test, y_buys_train, y_buys_test = train_test_split(X_buys, y_buys, random_state=42)\n",
    "X_buys_train.head()"
   ]
  },
  {
   "cell_type": "code",
   "execution_count": null,
   "metadata": {},
   "outputs": [],
   "source": [
    "# Scale/normalize data\n",
    "from sklearn.preprocessing import StandardScaler\n",
    "X_buys_scaler = StandardScaler().fit(X_buys_train)\n",
    "y_buys_scaler = StandardScaler().fit(y_buys_train)\n",
    "\n",
    "X_buys_train_scaled = X_buys_scaler.transform(X_buys_train)\n",
    "X_buys_test_scaled = X_buys_scaler.transform(X_buys_test)\n",
    "y_buys_train_scaled = y_buys_scaler.transform(y_buys_train)\n",
    "y_buys_test_scaled = y_buys_scaler.transform(y_buys_test)"
   ]
  },
  {
   "cell_type": "code",
   "execution_count": null,
   "metadata": {},
   "outputs": [],
   "source": [
    "model = LinearRegression()\n",
    "model.fit(X_buys_train_scaled, y_buys_train)\n",
    "model.score(X_buys_train_scaled, y_buys_train)"
   ]
  },
  {
   "cell_type": "code",
   "execution_count": null,
   "metadata": {},
   "outputs": [],
   "source": [
    "unscaled_model = LinearRegression()\n",
    "unscaled_model.fit(X_buys_train, y_buys_train)\n",
    "unscaled_model.score(X_buys_train, y_buys_train)"
   ]
  },
  {
   "cell_type": "code",
   "execution_count": null,
   "metadata": {},
   "outputs": [],
   "source": [
    "from sklearn.metrics import mean_absolute_error\n",
    "predictions = model.predict(X_buys_test_scaled)\n",
    "# print(y_buys_test)\n",
    "mean_absolute_error(y_buys_test, predictions)"
   ]
  },
  {
   "cell_type": "code",
   "execution_count": null,
   "metadata": {},
   "outputs": [],
   "source": [
    "unscaled_predictions = unscaled_model.predict(X_buys_test)\n",
    "mean_absolute_error(y_buys_test, unscaled_predictions)\n"
   ]
  },
  {
   "cell_type": "code",
   "execution_count": null,
   "metadata": {},
   "outputs": [],
   "source": [
    "error_list = []\n",
    "for i in range(len(y_buys_test)):\n",
    "    error_list.append(abs(predictions[i] - y_buys_test[i]))\n",
    "    if abs(predictions[i]) > 9000:\n",
    "        print(i, predictions[i], y_buys_test[i])\n",
    "    \n",
    "mae = sum(error_list)/len(error_list)\n",
    "print(mae)"
   ]
  },
  {
   "cell_type": "code",
   "execution_count": null,
   "metadata": {},
   "outputs": [],
   "source": [
    "pd.Series(error_list).hist()"
   ]
  },
  {
   "cell_type": "code",
   "execution_count": null,
   "metadata": {},
   "outputs": [],
   "source": []
  }
 ],
 "metadata": {
  "kernelspec": {
   "display_name": "Python 3",
   "language": "python",
   "name": "python3"
  },
  "language_info": {
   "codemirror_mode": {
    "name": "ipython",
    "version": 3
   },
   "file_extension": ".py",
   "mimetype": "text/x-python",
   "name": "python",
   "nbconvert_exporter": "python",
   "pygments_lexer": "ipython3",
   "version": "3.7.4"
  }
 },
 "nbformat": 4,
 "nbformat_minor": 4
}
