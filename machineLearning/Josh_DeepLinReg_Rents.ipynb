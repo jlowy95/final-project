{
 "cells": [
  {
   "cell_type": "code",
   "execution_count": 1,
   "metadata": {},
   "outputs": [],
   "source": [
    "# Import base dependencies\n",
    "import pandas as pd\n",
    "from sklearn.model_selection import train_test_split\n",
    "import numpy as np\n",
    "from sklearn.preprocessing import StandardScaler"
   ]
  },
  {
   "cell_type": "code",
   "execution_count": 2,
   "metadata": {},
   "outputs": [
    {
     "data": {
      "text/html": [
       "<div>\n",
       "<style scoped>\n",
       "    .dataframe tbody tr th:only-of-type {\n",
       "        vertical-align: middle;\n",
       "    }\n",
       "\n",
       "    .dataframe tbody tr th {\n",
       "        vertical-align: top;\n",
       "    }\n",
       "\n",
       "    .dataframe thead th {\n",
       "        text-align: right;\n",
       "    }\n",
       "</style>\n",
       "<table border=\"1\" class=\"dataframe\">\n",
       "  <thead>\n",
       "    <tr style=\"text-align: right;\">\n",
       "      <th></th>\n",
       "      <th>city_Antelope</th>\n",
       "      <th>city_Carmichael</th>\n",
       "      <th>city_Citrus Heights</th>\n",
       "      <th>city_Elk Grove</th>\n",
       "      <th>city_Fair Oaks</th>\n",
       "      <th>city_Folsom</th>\n",
       "      <th>city_Gold River</th>\n",
       "      <th>city_North Highlands</th>\n",
       "      <th>city_Orangevale</th>\n",
       "      <th>city_Rancho Cordova</th>\n",
       "      <th>...</th>\n",
       "      <th>zipcode_95838</th>\n",
       "      <th>zipcode_95841</th>\n",
       "      <th>zipcode_95842</th>\n",
       "      <th>zipcode_95843</th>\n",
       "      <th>zipcode_95864</th>\n",
       "      <th>beds</th>\n",
       "      <th>baths</th>\n",
       "      <th>square_footage</th>\n",
       "      <th>year_built</th>\n",
       "      <th>price</th>\n",
       "    </tr>\n",
       "  </thead>\n",
       "  <tbody>\n",
       "    <tr>\n",
       "      <th>2318</th>\n",
       "      <td>0</td>\n",
       "      <td>0</td>\n",
       "      <td>0</td>\n",
       "      <td>0</td>\n",
       "      <td>1</td>\n",
       "      <td>0</td>\n",
       "      <td>0</td>\n",
       "      <td>0</td>\n",
       "      <td>0</td>\n",
       "      <td>0</td>\n",
       "      <td>...</td>\n",
       "      <td>0</td>\n",
       "      <td>0</td>\n",
       "      <td>0</td>\n",
       "      <td>0</td>\n",
       "      <td>0</td>\n",
       "      <td>3.0</td>\n",
       "      <td>2.0</td>\n",
       "      <td>1043.0</td>\n",
       "      <td>1958.0</td>\n",
       "      <td>1650</td>\n",
       "    </tr>\n",
       "    <tr>\n",
       "      <th>2320</th>\n",
       "      <td>0</td>\n",
       "      <td>0</td>\n",
       "      <td>0</td>\n",
       "      <td>0</td>\n",
       "      <td>0</td>\n",
       "      <td>0</td>\n",
       "      <td>0</td>\n",
       "      <td>0</td>\n",
       "      <td>0</td>\n",
       "      <td>0</td>\n",
       "      <td>...</td>\n",
       "      <td>0</td>\n",
       "      <td>0</td>\n",
       "      <td>0</td>\n",
       "      <td>0</td>\n",
       "      <td>0</td>\n",
       "      <td>2.0</td>\n",
       "      <td>2.0</td>\n",
       "      <td>1000.0</td>\n",
       "      <td>1950.0</td>\n",
       "      <td>1400</td>\n",
       "    </tr>\n",
       "    <tr>\n",
       "      <th>2321</th>\n",
       "      <td>0</td>\n",
       "      <td>0</td>\n",
       "      <td>0</td>\n",
       "      <td>0</td>\n",
       "      <td>0</td>\n",
       "      <td>0</td>\n",
       "      <td>0</td>\n",
       "      <td>0</td>\n",
       "      <td>0</td>\n",
       "      <td>0</td>\n",
       "      <td>...</td>\n",
       "      <td>0</td>\n",
       "      <td>0</td>\n",
       "      <td>0</td>\n",
       "      <td>0</td>\n",
       "      <td>0</td>\n",
       "      <td>2.0</td>\n",
       "      <td>1.5</td>\n",
       "      <td>750.0</td>\n",
       "      <td>1972.0</td>\n",
       "      <td>1695</td>\n",
       "    </tr>\n",
       "    <tr>\n",
       "      <th>2322</th>\n",
       "      <td>0</td>\n",
       "      <td>0</td>\n",
       "      <td>0</td>\n",
       "      <td>0</td>\n",
       "      <td>0</td>\n",
       "      <td>0</td>\n",
       "      <td>0</td>\n",
       "      <td>0</td>\n",
       "      <td>0</td>\n",
       "      <td>0</td>\n",
       "      <td>...</td>\n",
       "      <td>0</td>\n",
       "      <td>0</td>\n",
       "      <td>0</td>\n",
       "      <td>0</td>\n",
       "      <td>0</td>\n",
       "      <td>2.0</td>\n",
       "      <td>2.0</td>\n",
       "      <td>850.0</td>\n",
       "      <td>1972.0</td>\n",
       "      <td>1625</td>\n",
       "    </tr>\n",
       "    <tr>\n",
       "      <th>2323</th>\n",
       "      <td>0</td>\n",
       "      <td>0</td>\n",
       "      <td>0</td>\n",
       "      <td>0</td>\n",
       "      <td>0</td>\n",
       "      <td>0</td>\n",
       "      <td>0</td>\n",
       "      <td>0</td>\n",
       "      <td>0</td>\n",
       "      <td>0</td>\n",
       "      <td>...</td>\n",
       "      <td>0</td>\n",
       "      <td>0</td>\n",
       "      <td>0</td>\n",
       "      <td>0</td>\n",
       "      <td>0</td>\n",
       "      <td>2.0</td>\n",
       "      <td>2.0</td>\n",
       "      <td>1100.0</td>\n",
       "      <td>1972.0</td>\n",
       "      <td>1625</td>\n",
       "    </tr>\n",
       "  </tbody>\n",
       "</table>\n",
       "<p>5 rows × 228 columns</p>\n",
       "</div>"
      ],
      "text/plain": [
       "      city_Antelope  city_Carmichael  city_Citrus Heights  city_Elk Grove  \\\n",
       "2318              0                0                    0               0   \n",
       "2320              0                0                    0               0   \n",
       "2321              0                0                    0               0   \n",
       "2322              0                0                    0               0   \n",
       "2323              0                0                    0               0   \n",
       "\n",
       "      city_Fair Oaks  city_Folsom  city_Gold River  city_North Highlands  \\\n",
       "2318               1            0                0                     0   \n",
       "2320               0            0                0                     0   \n",
       "2321               0            0                0                     0   \n",
       "2322               0            0                0                     0   \n",
       "2323               0            0                0                     0   \n",
       "\n",
       "      city_Orangevale  city_Rancho Cordova  ...  zipcode_95838  zipcode_95841  \\\n",
       "2318                0                    0  ...              0              0   \n",
       "2320                0                    0  ...              0              0   \n",
       "2321                0                    0  ...              0              0   \n",
       "2322                0                    0  ...              0              0   \n",
       "2323                0                    0  ...              0              0   \n",
       "\n",
       "      zipcode_95842  zipcode_95843  zipcode_95864  beds  baths  \\\n",
       "2318              0              0              0   3.0    2.0   \n",
       "2320              0              0              0   2.0    2.0   \n",
       "2321              0              0              0   2.0    1.5   \n",
       "2322              0              0              0   2.0    2.0   \n",
       "2323              0              0              0   2.0    2.0   \n",
       "\n",
       "      square_footage  year_built  price  \n",
       "2318          1043.0      1958.0   1650  \n",
       "2320          1000.0      1950.0   1400  \n",
       "2321           750.0      1972.0   1695  \n",
       "2322           850.0      1972.0   1625  \n",
       "2323          1100.0      1972.0   1625  \n",
       "\n",
       "[5 rows x 228 columns]"
      ]
     },
     "execution_count": 2,
     "metadata": {},
     "output_type": "execute_result"
    }
   ],
   "source": [
    "# Read in encoded RENTS data\n",
    "data = pd.read_csv('../preProcessing/rents_encoded.csv', index_col=0)\n",
    "data.head()"
   ]
  },
  {
   "cell_type": "code",
   "execution_count": 3,
   "metadata": {},
   "outputs": [
    {
     "name": "stdout",
     "output_type": "stream",
     "text": [
      "['city_Antelope', 'city_Carmichael', 'city_Citrus Heights', 'city_Elk Grove', 'city_Fair Oaks', 'city_Folsom', 'city_Gold River', 'city_North Highlands', 'city_Orangevale', 'city_Rancho Cordova', 'city_Rio Linda', 'city_Sacramento', 'city_West Sacramento', 'city_Wilton', 'neighborhood_Alkali Flat', 'neighborhood_American River Canyon', 'neighborhood_American River Canyon North', 'neighborhood_Arcade Creek', 'neighborhood_Birdcage Heights', 'neighborhood_Boulevard Park', 'neighborhood_Broderrick/Bryte', 'neighborhood_Campus Commons', 'neighborhood_Cannon Industrial Park', 'neighborhood_Capital Village', 'neighborhood_Carelton Tract', 'neighborhood_Central Oak Park', 'neighborhood_Chase', 'neighborhood_College-Glen', 'neighborhood_Colonial Heights', 'neighborhood_Colonial Manor', 'neighborhood_Colonial Village', 'neighborhood_Cordova Lane', 'neighborhood_Cordova Meadows', 'neighborhood_Cordova Vineyards', 'neighborhood_Creekside', 'neighborhood_Curtis Park', 'neighborhood_Del Paso Heights', 'neighborhood_Del Paso Park', 'neighborhood_Downtown', 'neighborhood_East Del Paso Heights', 'neighborhood_East Sacramento', 'neighborhood_Elmhurst', 'neighborhood_Fairgrounds', 'neighborhood_Foothill Farms', 'neighborhood_Fruitridge Manor', 'neighborhood_Gateway Center', 'neighborhood_Gateway West', 'neighborhood_Glenwood Meadows', 'neighborhood_Golf Course Terrace', 'neighborhood_Greenhaven', 'neighborhood_Hagginwood', 'neighborhood_Land Park', 'neighborhood_Lighthouse', 'neighborhood_Little Pocket', 'neighborhood_Mangan Park', 'neighborhood_Mansion Flats', 'neighborhood_Marshall School', 'neighborhood_Meadowview', 'neighborhood_Medical Center', 'neighborhood_Metro Center', 'neighborhood_Michigan-Glide-Sutter', 'neighborhood_Midtown - Winn Park Capital Avenue', 'neighborhood_Mills Ranch', 'neighborhood_Natomas Creek', 'neighborhood_Natomas Crossing', 'neighborhood_Natomas Park', 'neighborhood_New Era Park', 'neighborhood_Newton Booth', 'neighborhood_Noralto', 'neighborhood_North City Farms', 'neighborhood_North Highlands', 'neighborhood_North Oak Park', 'neighborhood_Northeast Village', 'neighborhood_Northgate', 'neighborhood_Northwest', 'neighborhood_Northwest Village', 'neighborhood_Oak Knoll', 'neighborhood_Old North Sacramento', 'neighborhood_Old West Sacramento', 'neighborhood_Park Oaks', 'neighborhood_Parkway', 'neighborhood_Pocket', 'neighborhood_Port North', 'neighborhood_RP Sports Complex', 'neighborhood_Richmond Grove', 'neighborhood_Rio del Oro', 'neighborhood_River Gardens', 'neighborhood_River Park', 'neighborhood_Robla', 'neighborhood_Rusch Park', 'neighborhood_Sierra Oaks', 'neighborhood_South City Farms', 'neighborhood_South Hagginwood', 'neighborhood_South Land Park', 'neighborhood_South Natomas', 'neighborhood_South Oak Park', 'neighborhood_South White Rock', 'neighborhood_Southside Park', 'neighborhood_Southwest Village', 'neighborhood_Sun River', 'neighborhood_Sunridge Anatolia', 'neighborhood_Sunridge Park', 'neighborhood_Sunrise Oaks', 'neighborhood_Sunrise Ranch', 'neighborhood_Swanston Estates', 'neighborhood_Sylvan Old Auburn Road', 'neighborhood_Tahoe Park', 'neighborhood_Tahoe Park East', 'neighborhood_Tahoe Park South', 'neighborhood_Tallac Village', 'neighborhood_Triangle', 'neighborhood_Upper Land Park', 'neighborhood_Valley High-North Laguna', 'neighborhood_Village 11', 'neighborhood_Village 12', 'neighborhood_Village 2', 'neighborhood_Village 5', 'neighborhood_Village 7', 'neighborhood_Village 9', 'neighborhood_Vineyard', 'neighborhood_Walnut Wood', 'neighborhood_West Tahoe Park', 'neighborhood_Westlake', 'neighborhood_White Rock', 'neighborhood_Willowcreek', 'neighborhood_Wills Acres', 'neighborhood_Woodlake', 'home_type_Apartment', 'home_type_Multi Family', 'home_type_Single Family Home', 'home_type_Townhouse', 'smoking_No smoking', 'living_room_Living room', 'dishwasher_Dishwasher', 'microwave_Microwave', 'refrigerator_Refrigerator', 'on_site_maint_Online Maintenance Portal', 'on_site_mng_On-Site Management', 'laundry_Hookups', 'laundry_In Unit', 'laundry_Laundry Facilities', 'laundry_OnSiteLaundry', 'laundry_Shared', 'air_con_Air Conditioning', 'disposal_Disposal', 'dryer_Dryer', 'patio_Patio', 'pool_Pool', 'balcony_Balcony', 'washer_Washer', 'washer_Washer Dryer Hookup', 'basketball_Basketball Court', 'ceiling_fan_Ceiling Fan', 'fireplace_Fireplace', 'fitness_Fitness Center', 'playground_Playground', 'floor_types_Concrete', 'floor_types_Hardwood', 'floor_types_Laminate', 'floor_types_Linoleum Vinyl', 'floor_types_Tile', 'bbq_BBQ Area', 'vaulted_ceiling_Vaulted Ceilings', 'rparking_On Street_On Street', 'rparking_Off Street_Off Street', 'rparking_Garage Detached_Garage Detached', 'rparking_Garage Attached_Garage Attached', 'pets_No pets allowed_No pets allowed', 'pets_Cats allowed_Cats allowed', 'pets_Small dogs allowed_Small dogs allowed', 'pets_large dogs allowed_large dogs allowed', 'util_Sewage_Sewage', 'util_Garbage_Garbage', 'util_Water_Water', 'util_Hot Water_Hot Water', 'util_Internet_Internet', 'util_Cable_Cable', 'util_Electricity_Electricity', 'util_Gas_Gas', 'util_Heat_Heat', 'util_Phone_Phone', 'zipcode_95605', 'zipcode_95608', 'zipcode_95610', 'zipcode_95621', 'zipcode_95624', 'zipcode_95628', 'zipcode_95630', 'zipcode_95660', 'zipcode_95662', 'zipcode_95670', 'zipcode_95673', 'zipcode_95691', 'zipcode_95693', 'zipcode_95742', 'zipcode_95758', 'zipcode_95811', 'zipcode_95814', 'zipcode_95815', 'zipcode_95816', 'zipcode_95817', 'zipcode_95818', 'zipcode_95819', 'zipcode_95820', 'zipcode_95821', 'zipcode_95822', 'zipcode_95823', 'zipcode_95824', 'zipcode_95825', 'zipcode_95826', 'zipcode_95827', 'zipcode_95828', 'zipcode_95829', 'zipcode_95831', 'zipcode_95832', 'zipcode_95833', 'zipcode_95834', 'zipcode_95835', 'zipcode_95838', 'zipcode_95841', 'zipcode_95842', 'zipcode_95843', 'zipcode_95864', 'beds', 'baths', 'square_footage', 'year_built', 'price']\n"
     ]
    }
   ],
   "source": [
    "print(list(data.columns))"
   ]
  },
  {
   "cell_type": "code",
   "execution_count": 4,
   "metadata": {},
   "outputs": [
    {
     "data": {
      "text/plain": [
       "(1007, 228)"
      ]
     },
     "execution_count": 4,
     "metadata": {},
     "output_type": "execute_result"
    }
   ],
   "source": [
    "data.shape"
   ]
  },
  {
   "cell_type": "code",
   "execution_count": 5,
   "metadata": {},
   "outputs": [],
   "source": [
    "# Separate input and output data\n",
    "X = data.iloc[:,:-1]\n",
    "y = data['price'].values.reshape(-1,1)"
   ]
  },
  {
   "cell_type": "code",
   "execution_count": 6,
   "metadata": {},
   "outputs": [
    {
     "data": {
      "text/html": [
       "<div>\n",
       "<style scoped>\n",
       "    .dataframe tbody tr th:only-of-type {\n",
       "        vertical-align: middle;\n",
       "    }\n",
       "\n",
       "    .dataframe tbody tr th {\n",
       "        vertical-align: top;\n",
       "    }\n",
       "\n",
       "    .dataframe thead th {\n",
       "        text-align: right;\n",
       "    }\n",
       "</style>\n",
       "<table border=\"1\" class=\"dataframe\">\n",
       "  <thead>\n",
       "    <tr style=\"text-align: right;\">\n",
       "      <th></th>\n",
       "      <th>city_Antelope</th>\n",
       "      <th>city_Carmichael</th>\n",
       "      <th>city_Citrus Heights</th>\n",
       "      <th>city_Elk Grove</th>\n",
       "      <th>city_Fair Oaks</th>\n",
       "      <th>city_Folsom</th>\n",
       "      <th>city_Gold River</th>\n",
       "      <th>city_North Highlands</th>\n",
       "      <th>city_Orangevale</th>\n",
       "      <th>city_Rancho Cordova</th>\n",
       "      <th>...</th>\n",
       "      <th>zipcode_95835</th>\n",
       "      <th>zipcode_95838</th>\n",
       "      <th>zipcode_95841</th>\n",
       "      <th>zipcode_95842</th>\n",
       "      <th>zipcode_95843</th>\n",
       "      <th>zipcode_95864</th>\n",
       "      <th>beds</th>\n",
       "      <th>baths</th>\n",
       "      <th>square_footage</th>\n",
       "      <th>year_built</th>\n",
       "    </tr>\n",
       "  </thead>\n",
       "  <tbody>\n",
       "    <tr>\n",
       "      <th>3366</th>\n",
       "      <td>0</td>\n",
       "      <td>1</td>\n",
       "      <td>0</td>\n",
       "      <td>0</td>\n",
       "      <td>0</td>\n",
       "      <td>0</td>\n",
       "      <td>0</td>\n",
       "      <td>0</td>\n",
       "      <td>0</td>\n",
       "      <td>0</td>\n",
       "      <td>...</td>\n",
       "      <td>0</td>\n",
       "      <td>0</td>\n",
       "      <td>0</td>\n",
       "      <td>0</td>\n",
       "      <td>0</td>\n",
       "      <td>0</td>\n",
       "      <td>2.0</td>\n",
       "      <td>2.0</td>\n",
       "      <td>1688.0</td>\n",
       "      <td>1955.0</td>\n",
       "    </tr>\n",
       "    <tr>\n",
       "      <th>2715</th>\n",
       "      <td>0</td>\n",
       "      <td>0</td>\n",
       "      <td>0</td>\n",
       "      <td>0</td>\n",
       "      <td>0</td>\n",
       "      <td>0</td>\n",
       "      <td>0</td>\n",
       "      <td>0</td>\n",
       "      <td>0</td>\n",
       "      <td>0</td>\n",
       "      <td>...</td>\n",
       "      <td>0</td>\n",
       "      <td>0</td>\n",
       "      <td>0</td>\n",
       "      <td>0</td>\n",
       "      <td>0</td>\n",
       "      <td>0</td>\n",
       "      <td>3.0</td>\n",
       "      <td>2.0</td>\n",
       "      <td>1344.0</td>\n",
       "      <td>1920.0</td>\n",
       "    </tr>\n",
       "    <tr>\n",
       "      <th>3092</th>\n",
       "      <td>0</td>\n",
       "      <td>0</td>\n",
       "      <td>0</td>\n",
       "      <td>0</td>\n",
       "      <td>0</td>\n",
       "      <td>0</td>\n",
       "      <td>0</td>\n",
       "      <td>0</td>\n",
       "      <td>0</td>\n",
       "      <td>0</td>\n",
       "      <td>...</td>\n",
       "      <td>0</td>\n",
       "      <td>0</td>\n",
       "      <td>0</td>\n",
       "      <td>0</td>\n",
       "      <td>0</td>\n",
       "      <td>0</td>\n",
       "      <td>2.0</td>\n",
       "      <td>2.0</td>\n",
       "      <td>1100.0</td>\n",
       "      <td>1960.0</td>\n",
       "    </tr>\n",
       "    <tr>\n",
       "      <th>3491</th>\n",
       "      <td>0</td>\n",
       "      <td>0</td>\n",
       "      <td>0</td>\n",
       "      <td>0</td>\n",
       "      <td>0</td>\n",
       "      <td>0</td>\n",
       "      <td>0</td>\n",
       "      <td>0</td>\n",
       "      <td>0</td>\n",
       "      <td>0</td>\n",
       "      <td>...</td>\n",
       "      <td>0</td>\n",
       "      <td>0</td>\n",
       "      <td>0</td>\n",
       "      <td>0</td>\n",
       "      <td>0</td>\n",
       "      <td>0</td>\n",
       "      <td>2.0</td>\n",
       "      <td>2.0</td>\n",
       "      <td>676.0</td>\n",
       "      <td>2008.0</td>\n",
       "    </tr>\n",
       "    <tr>\n",
       "      <th>3484</th>\n",
       "      <td>0</td>\n",
       "      <td>0</td>\n",
       "      <td>0</td>\n",
       "      <td>0</td>\n",
       "      <td>0</td>\n",
       "      <td>0</td>\n",
       "      <td>0</td>\n",
       "      <td>0</td>\n",
       "      <td>0</td>\n",
       "      <td>0</td>\n",
       "      <td>...</td>\n",
       "      <td>0</td>\n",
       "      <td>0</td>\n",
       "      <td>0</td>\n",
       "      <td>0</td>\n",
       "      <td>0</td>\n",
       "      <td>0</td>\n",
       "      <td>2.0</td>\n",
       "      <td>2.5</td>\n",
       "      <td>1471.0</td>\n",
       "      <td>2011.0</td>\n",
       "    </tr>\n",
       "  </tbody>\n",
       "</table>\n",
       "<p>5 rows × 227 columns</p>\n",
       "</div>"
      ],
      "text/plain": [
       "      city_Antelope  city_Carmichael  city_Citrus Heights  city_Elk Grove  \\\n",
       "3366              0                1                    0               0   \n",
       "2715              0                0                    0               0   \n",
       "3092              0                0                    0               0   \n",
       "3491              0                0                    0               0   \n",
       "3484              0                0                    0               0   \n",
       "\n",
       "      city_Fair Oaks  city_Folsom  city_Gold River  city_North Highlands  \\\n",
       "3366               0            0                0                     0   \n",
       "2715               0            0                0                     0   \n",
       "3092               0            0                0                     0   \n",
       "3491               0            0                0                     0   \n",
       "3484               0            0                0                     0   \n",
       "\n",
       "      city_Orangevale  city_Rancho Cordova  ...  zipcode_95835  zipcode_95838  \\\n",
       "3366                0                    0  ...              0              0   \n",
       "2715                0                    0  ...              0              0   \n",
       "3092                0                    0  ...              0              0   \n",
       "3491                0                    0  ...              0              0   \n",
       "3484                0                    0  ...              0              0   \n",
       "\n",
       "      zipcode_95841  zipcode_95842  zipcode_95843  zipcode_95864  beds  baths  \\\n",
       "3366              0              0              0              0   2.0    2.0   \n",
       "2715              0              0              0              0   3.0    2.0   \n",
       "3092              0              0              0              0   2.0    2.0   \n",
       "3491              0              0              0              0   2.0    2.0   \n",
       "3484              0              0              0              0   2.0    2.5   \n",
       "\n",
       "      square_footage  year_built  \n",
       "3366          1688.0      1955.0  \n",
       "2715          1344.0      1920.0  \n",
       "3092          1100.0      1960.0  \n",
       "3491           676.0      2008.0  \n",
       "3484          1471.0      2011.0  \n",
       "\n",
       "[5 rows x 227 columns]"
      ]
     },
     "execution_count": 6,
     "metadata": {},
     "output_type": "execute_result"
    }
   ],
   "source": [
    "# Split data for training and testing (85/15 split)\n",
    "X_train, X_test, y_train, y_test = train_test_split(X, y,\n",
    "                                                                        random_state=42,\n",
    "                                                                        test_size=0.15)\n",
    "X_train.head()"
   ]
  },
  {
   "cell_type": "code",
   "execution_count": 7,
   "metadata": {},
   "outputs": [],
   "source": [
    "# Create a StandardScaler to normalize our data\n",
    "X_scaler = StandardScaler().fit(X_train)"
   ]
  },
  {
   "cell_type": "code",
   "execution_count": 8,
   "metadata": {},
   "outputs": [],
   "source": [
    "# Transform data with the fitted scaler\n",
    "X_train_scaled = X_scaler.transform(X_train)\n",
    "X_test_scaled = X_scaler.transform(X_test)"
   ]
  },
  {
   "cell_type": "code",
   "execution_count": 9,
   "metadata": {},
   "outputs": [],
   "source": [
    "# Import ML dependencies\n",
    "import tensorflow as tf\n",
    "\n",
    "from tensorflow import keras\n",
    "from tensorflow.keras import layers"
   ]
  },
  {
   "cell_type": "code",
   "execution_count": 10,
   "metadata": {},
   "outputs": [],
   "source": [
    "import tensorflow_docs as tfdocs\n",
    "import tensorflow_docs.plots\n",
    "import tensorflow_docs.modeling"
   ]
  },
  {
   "cell_type": "code",
   "execution_count": 11,
   "metadata": {},
   "outputs": [],
   "source": [
    "# Define our Sequential model and its parameters\n",
    "def build_model():\n",
    "  model = keras.Sequential([\n",
    "    layers.Dense(60, activation='relu', input_shape=[len(X_train.columns)]),\n",
    "    layers.Dense(38, activation='relu'),\n",
    "    layers.Dense(20, activation='relu'),\n",
    "    layers.Dense(1)\n",
    "  ])\n",
    "\n",
    "  optimizer = tf.keras.optimizers.RMSprop(0.001)\n",
    "\n",
    "  model.compile(loss='mse',\n",
    "                optimizer=optimizer,\n",
    "                metrics=['mae', 'mse'])\n",
    "  return model"
   ]
  },
  {
   "cell_type": "code",
   "execution_count": 12,
   "metadata": {},
   "outputs": [
    {
     "name": "stdout",
     "output_type": "stream",
     "text": [
      "Model: \"sequential\"\n",
      "_________________________________________________________________\n",
      "Layer (type)                 Output Shape              Param #   \n",
      "=================================================================\n",
      "dense (Dense)                (None, 60)                13680     \n",
      "_________________________________________________________________\n",
      "dense_1 (Dense)              (None, 38)                2318      \n",
      "_________________________________________________________________\n",
      "dense_2 (Dense)              (None, 20)                780       \n",
      "_________________________________________________________________\n",
      "dense_3 (Dense)              (None, 1)                 21        \n",
      "=================================================================\n",
      "Total params: 16,799\n",
      "Trainable params: 16,799\n",
      "Non-trainable params: 0\n",
      "_________________________________________________________________\n"
     ]
    }
   ],
   "source": [
    "# Create our model instance\n",
    "model = build_model()\n",
    "\n",
    "model.summary()"
   ]
  },
  {
   "cell_type": "code",
   "execution_count": 13,
   "metadata": {},
   "outputs": [
    {
     "name": "stdout",
     "output_type": "stream",
     "text": [
      "\n",
      "Epoch: 0, loss:3479149.0629,  mae:1724.2330,  mse:3479149.2500,  val_loss:3491899.3860,  val_mae:1696.5231,  val_mse:3491899.5000,  \n",
      "....................................................................................................\n",
      "Epoch: 100, loss:43414.7262,  mae:126.6587,  mse:43414.7227,  val_loss:507038.8461,  val_mae:384.8373,  val_mse:507038.8750,  \n",
      "..................................."
     ]
    }
   ],
   "source": [
    "# Train our model\n",
    "EPOCHS = 1000\n",
    "\n",
    "# Callback to stop the train early if value loss goes relatively unchanged over 'patience' epochs\n",
    "early_stop = keras.callbacks.EarlyStopping(monitor='val_loss', patience=20)\n",
    "\n",
    "# Save model outputs for analyzation\n",
    "history = model.fit(\n",
    "  X_train_scaled, y_train,\n",
    "  epochs=EPOCHS, validation_split = 0.2, verbose=0,\n",
    "  callbacks=[early_stop, tfdocs.modeling.EpochDots()])"
   ]
  },
  {
   "cell_type": "code",
   "execution_count": 14,
   "metadata": {
    "scrolled": true
   },
   "outputs": [
    {
     "data": {
      "text/html": [
       "<div>\n",
       "<style scoped>\n",
       "    .dataframe tbody tr th:only-of-type {\n",
       "        vertical-align: middle;\n",
       "    }\n",
       "\n",
       "    .dataframe tbody tr th {\n",
       "        vertical-align: top;\n",
       "    }\n",
       "\n",
       "    .dataframe thead th {\n",
       "        text-align: right;\n",
       "    }\n",
       "</style>\n",
       "<table border=\"1\" class=\"dataframe\">\n",
       "  <thead>\n",
       "    <tr style=\"text-align: right;\">\n",
       "      <th></th>\n",
       "      <th>loss</th>\n",
       "      <th>mae</th>\n",
       "      <th>mse</th>\n",
       "      <th>val_loss</th>\n",
       "      <th>val_mae</th>\n",
       "      <th>val_mse</th>\n",
       "      <th>epoch</th>\n",
       "    </tr>\n",
       "  </thead>\n",
       "  <tbody>\n",
       "    <tr>\n",
       "      <th>130</th>\n",
       "      <td>27794.264072</td>\n",
       "      <td>99.454041</td>\n",
       "      <td>27794.263672</td>\n",
       "      <td>509581.205592</td>\n",
       "      <td>381.889252</td>\n",
       "      <td>509581.18750</td>\n",
       "      <td>130</td>\n",
       "    </tr>\n",
       "    <tr>\n",
       "      <th>131</th>\n",
       "      <td>27348.013373</td>\n",
       "      <td>98.773964</td>\n",
       "      <td>27348.013672</td>\n",
       "      <td>515093.901499</td>\n",
       "      <td>385.444916</td>\n",
       "      <td>515093.90625</td>\n",
       "      <td>131</td>\n",
       "    </tr>\n",
       "    <tr>\n",
       "      <th>132</th>\n",
       "      <td>26967.629158</td>\n",
       "      <td>97.591423</td>\n",
       "      <td>26967.630859</td>\n",
       "      <td>520734.493238</td>\n",
       "      <td>390.881866</td>\n",
       "      <td>520734.50000</td>\n",
       "      <td>132</td>\n",
       "    </tr>\n",
       "    <tr>\n",
       "      <th>133</th>\n",
       "      <td>26262.018515</td>\n",
       "      <td>98.168594</td>\n",
       "      <td>26262.017578</td>\n",
       "      <td>530111.032712</td>\n",
       "      <td>391.241455</td>\n",
       "      <td>530111.00000</td>\n",
       "      <td>133</td>\n",
       "    </tr>\n",
       "    <tr>\n",
       "      <th>134</th>\n",
       "      <td>25850.109912</td>\n",
       "      <td>96.307648</td>\n",
       "      <td>25850.111328</td>\n",
       "      <td>530616.432749</td>\n",
       "      <td>397.026672</td>\n",
       "      <td>530616.43750</td>\n",
       "      <td>134</td>\n",
       "    </tr>\n",
       "  </tbody>\n",
       "</table>\n",
       "</div>"
      ],
      "text/plain": [
       "             loss        mae           mse       val_loss     val_mae  \\\n",
       "130  27794.264072  99.454041  27794.263672  509581.205592  381.889252   \n",
       "131  27348.013373  98.773964  27348.013672  515093.901499  385.444916   \n",
       "132  26967.629158  97.591423  26967.630859  520734.493238  390.881866   \n",
       "133  26262.018515  98.168594  26262.017578  530111.032712  391.241455   \n",
       "134  25850.109912  96.307648  25850.111328  530616.432749  397.026672   \n",
       "\n",
       "          val_mse  epoch  \n",
       "130  509581.18750    130  \n",
       "131  515093.90625    131  \n",
       "132  520734.50000    132  \n",
       "133  530111.00000    133  \n",
       "134  530616.43750    134  "
      ]
     },
     "execution_count": 14,
     "metadata": {},
     "output_type": "execute_result"
    }
   ],
   "source": [
    "hist = pd.DataFrame(history.history)\n",
    "hist['epoch'] = history.epoch\n",
    "hist.tail()"
   ]
  },
  {
   "cell_type": "code",
   "execution_count": 15,
   "metadata": {},
   "outputs": [],
   "source": [
    "plotter = tfdocs.plots.HistoryPlotter(smoothing_std=2)"
   ]
  },
  {
   "cell_type": "code",
   "execution_count": 16,
   "metadata": {},
   "outputs": [
    {
     "data": {
      "text/plain": [
       "Text(0, 0.5, 'MAE [Price]')"
      ]
     },
     "execution_count": 16,
     "metadata": {},
     "output_type": "execute_result"
    },
    {
     "data": {
      "image/png": "[encoded data removed]",
      "text/plain": [
       "<Figure size 432x288 with 1 Axes>"
      ]
     },
     "metadata": {
      "needs_background": "light"
     },
     "output_type": "display_data"
    }
   ],
   "source": [
    "# Plot MAE of our 'price' modeling\n",
    "import matplotlib.pyplot as plt\n",
    "\n",
    "plotter.plot({'Basic': history}, metric = \"mae\")\n",
    "plt.ylim([0, 1000])\n",
    "plt.ylabel('MAE [Price]')"
   ]
  },
  {
   "cell_type": "code",
   "execution_count": 17,
   "metadata": {},
   "outputs": [
    {
     "data": {
      "text/plain": [
       "Text(0, 0.5, 'MSE [Price^2]')"
      ]
     },
     "execution_count": 17,
     "metadata": {},
     "output_type": "execute_result"
    },
    {
     "data": {
      "image/png": "[encoded data removed]",
      "text/plain": [
       "<Figure size 432x288 with 1 Axes>"
      ]
     },
     "metadata": {
      "needs_background": "light"
     },
     "output_type": "display_data"
    }
   ],
   "source": [
    "# Plot MSE of our 'price' modeling\n",
    "plotter.plot({'Basic': history}, metric = \"mse\")\n",
    "plt.ylim([0, 1000000])\n",
    "plt.ylabel('MSE [Price^2]')"
   ]
  },
  {
   "cell_type": "code",
   "execution_count": 18,
   "metadata": {},
   "outputs": [
    {
     "data": {
      "image/png": "[encoded data removed]",
      "text/plain": [
       "<Figure size 432x288 with 1 Axes>"
      ]
     },
     "metadata": {
      "needs_background": "light"
     },
     "output_type": "display_data"
    }
   ],
   "source": [
    "# Test our model using prediction and plot results against true values\n",
    "test_predictions = model.predict(X_test_scaled).flatten()\n",
    "\n",
    "a = plt.axes(aspect='equal')\n",
    "plt.scatter(y_test, test_predictions)\n",
    "plt.xlabel('True Values [Price]')\n",
    "plt.ylabel('Predictions [Price]')\n",
    "lims = [0, 5000]\n",
    "plt.xlim(lims)\n",
    "plt.ylim(lims)\n",
    "_ = plt.plot(lims, lims)\n"
   ]
  },
  {
   "cell_type": "code",
   "execution_count": 19,
   "metadata": {},
   "outputs": [
    {
     "name": "stdout",
     "output_type": "stream",
     "text": [
      "152/1 - 0s - loss: 342280.4095 - mae: 419.6770 - mse: 344005.2188\n"
     ]
    }
   ],
   "source": [
    "loss, mae, mse = model.evaluate(X_test_scaled, y_test, verbose=2)"
   ]
  },
  {
   "cell_type": "code",
   "execution_count": 20,
   "metadata": {},
   "outputs": [],
   "source": [
    "# Save the model\n",
    "model.save(\"test_model.h5\")"
   ]
  },
  {
   "cell_type": "code",
   "execution_count": null,
   "metadata": {},
   "outputs": [],
   "source": []
  }
 ],
 "metadata": {
  "kernelspec": {
   "display_name": "Python 3",
   "language": "python",
   "name": "python3"
  },
  "language_info": {
   "codemirror_mode": {
    "name": "ipython",
    "version": 3
   },
   "file_extension": ".py",
   "mimetype": "text/x-python",
   "name": "python",
   "nbconvert_exporter": "python",
   "pygments_lexer": "ipython3",
   "version": "3.7.3"
  }
 },
 "nbformat": 4,
 "nbformat_minor": 4
}
