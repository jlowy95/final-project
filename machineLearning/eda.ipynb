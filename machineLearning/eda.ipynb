{
 "cells": [
  {
   "cell_type": "markdown",
   "metadata": {},
   "source": [
    "Resources:\n",
    "https://www.tensorflow.org/tutorials/keras/regression\n"
   ]
  },
  {
   "cell_type": "code",
   "execution_count": 67,
   "metadata": {},
   "outputs": [],
   "source": [
    "import numpy as np \n",
    "import pandas as pd \n",
    "import seaborn as sns \n",
    "import matplotlib.pyplot as plt \n",
    "from sklearn import preprocessing, svm \n",
    "from sklearn.model_selection import train_test_split \n",
    "from sklearn.linear_model import LinearRegression"
   ]
  },
  {
   "cell_type": "code",
   "execution_count": 2,
   "metadata": {},
   "outputs": [],
   "source": [
    "df = pd.read_csv(\"../data/clean_buys.csv\")"
   ]
  },
  {
   "cell_type": "code",
   "execution_count": 3,
   "metadata": {},
   "outputs": [
    {
     "data": {
      "text/html": [
       "<div>\n",
       "<style scoped>\n",
       "    .dataframe tbody tr th:only-of-type {\n",
       "        vertical-align: middle;\n",
       "    }\n",
       "\n",
       "    .dataframe tbody tr th {\n",
       "        vertical-align: top;\n",
       "    }\n",
       "\n",
       "    .dataframe thead th {\n",
       "        text-align: right;\n",
       "    }\n",
       "</style>\n",
       "<table border=\"1\" class=\"dataframe\">\n",
       "  <thead>\n",
       "    <tr style=\"text-align: right;\">\n",
       "      <th></th>\n",
       "      <th>Unnamed: 0</th>\n",
       "      <th>url</th>\n",
       "      <th>street_address</th>\n",
       "      <th>city</th>\n",
       "      <th>state</th>\n",
       "      <th>zipcode</th>\n",
       "      <th>neighborhood</th>\n",
       "      <th>beds</th>\n",
       "      <th>baths</th>\n",
       "      <th>square_footage</th>\n",
       "      <th>...</th>\n",
       "      <th>num_parking</th>\n",
       "      <th>security</th>\n",
       "      <th>num_stories</th>\n",
       "      <th>exterior_types</th>\n",
       "      <th>foundation_type</th>\n",
       "      <th>roof_type</th>\n",
       "      <th>patio</th>\n",
       "      <th>porch</th>\n",
       "      <th>deck</th>\n",
       "      <th>pool</th>\n",
       "    </tr>\n",
       "  </thead>\n",
       "  <tbody>\n",
       "    <tr>\n",
       "      <td>0</td>\n",
       "      <td>0</td>\n",
       "      <td>https://www.trulia.com/p/ca/sacramento/3141-ye...</td>\n",
       "      <td>3141 Yellowstone Ln</td>\n",
       "      <td>Sacramento</td>\n",
       "      <td>CA</td>\n",
       "      <td>95821</td>\n",
       "      <td>UNKNOWN</td>\n",
       "      <td>4</td>\n",
       "      <td>2.0</td>\n",
       "      <td>1689.0</td>\n",
       "      <td>...</td>\n",
       "      <td>1.0</td>\n",
       "      <td>Security System</td>\n",
       "      <td>1.0</td>\n",
       "      <td>('Brick', 'Wood')</td>\n",
       "      <td>UNKNOWN</td>\n",
       "      <td>Composition</td>\n",
       "      <td>Patio</td>\n",
       "      <td>Porch</td>\n",
       "      <td>Deck</td>\n",
       "      <td>Pool</td>\n",
       "    </tr>\n",
       "    <tr>\n",
       "      <td>1</td>\n",
       "      <td>1</td>\n",
       "      <td>https://www.trulia.com/p/ca/sacramento/7748-fi...</td>\n",
       "      <td>7748 Finnhorse Way</td>\n",
       "      <td>Sacramento</td>\n",
       "      <td>CA</td>\n",
       "      <td>95828</td>\n",
       "      <td>UNKNOWN</td>\n",
       "      <td>5</td>\n",
       "      <td>3.0</td>\n",
       "      <td>3020.0</td>\n",
       "      <td>...</td>\n",
       "      <td>3.0</td>\n",
       "      <td>UNKNOWN</td>\n",
       "      <td>2.0</td>\n",
       "      <td>('Wood',)</td>\n",
       "      <td>UNKNOWN</td>\n",
       "      <td>Tile</td>\n",
       "      <td>Patio</td>\n",
       "      <td>UNKNOWN</td>\n",
       "      <td>UNKNOWN</td>\n",
       "      <td>UNKNOWN</td>\n",
       "    </tr>\n",
       "    <tr>\n",
       "      <td>2</td>\n",
       "      <td>2</td>\n",
       "      <td>https://www.trulia.com/p/ca/rancho-cordova/224...</td>\n",
       "      <td>2246 Palmwood Ct</td>\n",
       "      <td>Rancho Cordova</td>\n",
       "      <td>CA</td>\n",
       "      <td>95670</td>\n",
       "      <td>Mills Ranch</td>\n",
       "      <td>4</td>\n",
       "      <td>2.0</td>\n",
       "      <td>1420.0</td>\n",
       "      <td>...</td>\n",
       "      <td>2.0</td>\n",
       "      <td>Security System</td>\n",
       "      <td>1.0</td>\n",
       "      <td>('Wood',)</td>\n",
       "      <td>Slab</td>\n",
       "      <td>Composition</td>\n",
       "      <td>Patio</td>\n",
       "      <td>UNKNOWN</td>\n",
       "      <td>Deck</td>\n",
       "      <td>UNKNOWN</td>\n",
       "    </tr>\n",
       "    <tr>\n",
       "      <td>3</td>\n",
       "      <td>3</td>\n",
       "      <td>https://www.trulia.com/p/ca/sacramento/5741-re...</td>\n",
       "      <td>5741 Rexleigh Dr</td>\n",
       "      <td>Sacramento</td>\n",
       "      <td>CA</td>\n",
       "      <td>95823</td>\n",
       "      <td>Valley High-North Laguna</td>\n",
       "      <td>4</td>\n",
       "      <td>3.0</td>\n",
       "      <td>2918.0</td>\n",
       "      <td>...</td>\n",
       "      <td>2.0</td>\n",
       "      <td>UNKNOWN</td>\n",
       "      <td>2.0</td>\n",
       "      <td>UNKNOWN</td>\n",
       "      <td>Slab</td>\n",
       "      <td>Tile</td>\n",
       "      <td>Patio</td>\n",
       "      <td>UNKNOWN</td>\n",
       "      <td>Deck</td>\n",
       "      <td>UNKNOWN</td>\n",
       "    </tr>\n",
       "    <tr>\n",
       "      <td>4</td>\n",
       "      <td>4</td>\n",
       "      <td>https://www.trulia.com/p/ca/sacramento/6101-go...</td>\n",
       "      <td>6101 Golden Dawn Way</td>\n",
       "      <td>Sacramento</td>\n",
       "      <td>CA</td>\n",
       "      <td>95841</td>\n",
       "      <td>Foothill Farms</td>\n",
       "      <td>4</td>\n",
       "      <td>3.0</td>\n",
       "      <td>1903.0</td>\n",
       "      <td>...</td>\n",
       "      <td>2.0</td>\n",
       "      <td>UNKNOWN</td>\n",
       "      <td>1.0</td>\n",
       "      <td>('Brick', 'Wood')</td>\n",
       "      <td>UNKNOWN</td>\n",
       "      <td>Composition</td>\n",
       "      <td>Patio</td>\n",
       "      <td>Porch</td>\n",
       "      <td>UNKNOWN</td>\n",
       "      <td>UNKNOWN</td>\n",
       "    </tr>\n",
       "  </tbody>\n",
       "</table>\n",
       "<p>5 rows × 44 columns</p>\n",
       "</div>"
      ],
      "text/plain": [
       "   Unnamed: 0                                                url  \\\n",
       "0           0  https://www.trulia.com/p/ca/sacramento/3141-ye...   \n",
       "1           1  https://www.trulia.com/p/ca/sacramento/7748-fi...   \n",
       "2           2  https://www.trulia.com/p/ca/rancho-cordova/224...   \n",
       "3           3  https://www.trulia.com/p/ca/sacramento/5741-re...   \n",
       "4           4  https://www.trulia.com/p/ca/sacramento/6101-go...   \n",
       "\n",
       "         street_address            city state  zipcode  \\\n",
       "0   3141 Yellowstone Ln      Sacramento    CA    95821   \n",
       "1    7748 Finnhorse Way      Sacramento    CA    95828   \n",
       "2      2246 Palmwood Ct  Rancho Cordova    CA    95670   \n",
       "3      5741 Rexleigh Dr      Sacramento    CA    95823   \n",
       "4  6101 Golden Dawn Way      Sacramento    CA    95841   \n",
       "\n",
       "               neighborhood  beds  baths  square_footage  ...  num_parking  \\\n",
       "0                   UNKNOWN     4    2.0          1689.0  ...          1.0   \n",
       "1                   UNKNOWN     5    3.0          3020.0  ...          3.0   \n",
       "2               Mills Ranch     4    2.0          1420.0  ...          2.0   \n",
       "3  Valley High-North Laguna     4    3.0          2918.0  ...          2.0   \n",
       "4            Foothill Farms     4    3.0          1903.0  ...          2.0   \n",
       "\n",
       "          security num_stories     exterior_types foundation_type  \\\n",
       "0  Security System         1.0  ('Brick', 'Wood')         UNKNOWN   \n",
       "1          UNKNOWN         2.0          ('Wood',)         UNKNOWN   \n",
       "2  Security System         1.0          ('Wood',)            Slab   \n",
       "3          UNKNOWN         2.0            UNKNOWN            Slab   \n",
       "4          UNKNOWN         1.0  ('Brick', 'Wood')         UNKNOWN   \n",
       "\n",
       "     roof_type  patio    porch     deck     pool  \n",
       "0  Composition  Patio    Porch     Deck     Pool  \n",
       "1         Tile  Patio  UNKNOWN  UNKNOWN  UNKNOWN  \n",
       "2  Composition  Patio  UNKNOWN     Deck  UNKNOWN  \n",
       "3         Tile  Patio  UNKNOWN     Deck  UNKNOWN  \n",
       "4  Composition  Patio    Porch  UNKNOWN  UNKNOWN  \n",
       "\n",
       "[5 rows x 44 columns]"
      ]
     },
     "execution_count": 3,
     "metadata": {},
     "output_type": "execute_result"
    }
   ],
   "source": [
    "df.head()"
   ]
  },
  {
   "cell_type": "code",
   "execution_count": 4,
   "metadata": {},
   "outputs": [
    {
     "data": {
      "text/plain": [
       "array(['Unnamed: 0', 'url', 'street_address', 'city', 'state', 'zipcode',\n",
       "       'neighborhood', 'beds', 'baths', 'square_footage', 'price',\n",
       "       'listing_type', 'description', 'details', 'home_type', 'lot_size',\n",
       "       'year_built', 'num_rooms', 'rooms_list', 'heating', 'heating_fuel',\n",
       "       'cooling_system', 'floor_types', 'air_con', 'microwave',\n",
       "       'dishwasher', 'disposal', 'washer', 'dryer', 'fireplace',\n",
       "       'vaulted_ceiling', 'double_pane', 'parking_type', 'garage',\n",
       "       'num_parking', 'security', 'num_stories', 'exterior_types',\n",
       "       'foundation_type', 'roof_type', 'patio', 'porch', 'deck', 'pool'],\n",
       "      dtype=object)"
      ]
     },
     "execution_count": 4,
     "metadata": {},
     "output_type": "execute_result"
    }
   ],
   "source": [
    "df.columns.values"
   ]
  },
  {
   "cell_type": "code",
   "execution_count": 5,
   "metadata": {},
   "outputs": [
    {
     "data": {
      "text/plain": [
       "Unnamed: 0                                                         0\n",
       "url                https://www.trulia.com/p/ca/sacramento/3141-ye...\n",
       "street_address                                   3141 Yellowstone Ln\n",
       "city                                                      Sacramento\n",
       "state                                                             CA\n",
       "zipcode                                                        95821\n",
       "neighborhood                                                 UNKNOWN\n",
       "beds                                                               4\n",
       "baths                                                              2\n",
       "square_footage                                                  1689\n",
       "price                                                         390000\n",
       "listing_type                                                     BUY\n",
       "description        Beautifully upgrade, large 4 bedroom, 2 full b...\n",
       "details            ['Single Family Home', '$231/sqft', 'Lot Size:...\n",
       "home_type                                         Single Family Home\n",
       "lot_size                                                     11325.6\n",
       "year_built                                                      1946\n",
       "num_rooms                                                          8\n",
       "rooms_list                                          ('Dining Room',)\n",
       "heating                                                   Forced Air\n",
       "heating_fuel                                                Electric\n",
       "cooling_system                                          ('Central',)\n",
       "floor_types                                   ('Carpet', 'Hardwood')\n",
       "air_con                                             Air Conditioning\n",
       "microwave                                                    UNKNOWN\n",
       "dishwasher                                                   UNKNOWN\n",
       "disposal                                                     UNKNOWN\n",
       "washer                                                        Washer\n",
       "dryer                                                          Dryer\n",
       "fireplace                                                  Fireplace\n",
       "vaulted_ceiling                                              UNKNOWN\n",
       "double_pane                                     Double Paned Windows\n",
       "parking_type                                    ('Detached Garage',)\n",
       "garage                                                        Garage\n",
       "num_parking                                                        1\n",
       "security                                             Security System\n",
       "num_stories                                                        1\n",
       "exterior_types                                     ('Brick', 'Wood')\n",
       "foundation_type                                              UNKNOWN\n",
       "roof_type                                                Composition\n",
       "patio                                                          Patio\n",
       "porch                                                          Porch\n",
       "deck                                                            Deck\n",
       "pool                                                            Pool\n",
       "Name: 0, dtype: object"
      ]
     },
     "execution_count": 5,
     "metadata": {},
     "output_type": "execute_result"
    }
   ],
   "source": [
    "df.loc[0]"
   ]
  },
  {
   "cell_type": "code",
   "execution_count": 10,
   "metadata": {},
   "outputs": [
    {
     "data": {
      "text/plain": [
       "2228"
      ]
     },
     "execution_count": 10,
     "metadata": {},
     "output_type": "execute_result"
    }
   ],
   "source": [
    "df_data = df[['beds','baths','square_footage', 'num_rooms', 'lot_size', 'price']]\n",
    "df_data = df_data.dropna(how=\"any\")\n",
    "len(df_data)"
   ]
  },
  {
   "cell_type": "code",
   "execution_count": 11,
   "metadata": {},
   "outputs": [
    {
     "data": {
      "image/png": "[encoded data removed]",
      "text/plain": [
       "<Figure size 432x288 with 2 Axes>"
      ]
     },
     "metadata": {
      "needs_background": "light"
     },
     "output_type": "display_data"
    }
   ],
   "source": [
    "corrMatrix = df_data.corr()\n",
    "sns.heatmap(corrMatrix, annot=True)\n",
    "plt.show()"
   ]
  },
  {
   "cell_type": "code",
   "execution_count": 12,
   "metadata": {},
   "outputs": [
    {
     "data": {
      "image/png": "[encoded data removed]",
      "text/plain": [
       "<Figure size 432x288 with 1 Axes>"
      ]
     },
     "metadata": {
      "needs_background": "light"
     },
     "output_type": "display_data"
    }
   ],
   "source": [
    "plt.scatter(df_data['square_footage'], df_data['price'])\n",
    "plt.show()"
   ]
  },
  {
   "cell_type": "code",
   "execution_count": 13,
   "metadata": {},
   "outputs": [
    {
     "data": {
      "text/plain": [
       "<matplotlib.axes._subplots.AxesSubplot at 0x1a22b97ad0>"
      ]
     },
     "execution_count": 13,
     "metadata": {},
     "output_type": "execute_result"
    },
    {
     "data": {
      "image/png": "[encoded data removed]",
      "text/plain": [
       "<Figure size 432x288 with 1 Axes>"
      ]
     },
     "metadata": {
      "needs_background": "light"
     },
     "output_type": "display_data"
    }
   ],
   "source": [
    "df_data['price'].hist(bins=100)"
   ]
  },
  {
   "cell_type": "code",
   "execution_count": 16,
   "metadata": {},
   "outputs": [],
   "source": [
    "X = df_data[['beds','baths','square_footage', 'num_rooms', 'lot_size']]\n",
    "y = df_data['price']"
   ]
  },
  {
   "cell_type": "code",
   "execution_count": 68,
   "metadata": {},
   "outputs": [
    {
     "data": {
      "text/plain": [
       "0.5302248057179277"
      ]
     },
     "execution_count": 68,
     "metadata": {},
     "output_type": "execute_result"
    }
   ],
   "source": [
    "X_train, X_test, y_train, y_test = train_test_split(X, y, test_size = 0.15) \n",
    "\n",
    "regr = LinearRegression() \n",
    "\n",
    "regr.fit(X_train, y_train) \n",
    "regr.score(X_test, y_test)"
   ]
  },
  {
   "cell_type": "code",
   "execution_count": 69,
   "metadata": {},
   "outputs": [
    {
     "name": "stderr",
     "output_type": "stream",
     "text": [
      "/opt/anaconda3/lib/python3.7/site-packages/IPython/core/interactiveshell.py:3058: DtypeWarning: Columns (22,32,34,49,55) have mixed types. Specify dtype option on import or set low_memory=False.\n",
      "  interactivity=interactivity, compiler=compiler, result=result)\n"
     ]
    }
   ],
   "source": [
    "df_zillow = pd.read_csv(\"/Users/thomasbergamaschi/Downloads/properties_2016.csv\")"
   ]
  },
  {
   "cell_type": "code",
   "execution_count": 70,
   "metadata": {},
   "outputs": [
    {
     "data": {
      "text/plain": [
       "2985217"
      ]
     },
     "execution_count": 70,
     "metadata": {},
     "output_type": "execute_result"
    }
   ],
   "source": [
    "len(df_zillow)"
   ]
  },
  {
   "cell_type": "code",
   "execution_count": null,
   "metadata": {},
   "outputs": [],
   "source": []
  }
 ],
 "metadata": {
  "kernelspec": {
   "display_name": "Python 3",
   "language": "python",
   "name": "python3"
  },
  "language_info": {
   "codemirror_mode": {
    "name": "ipython",
    "version": 3
   },
   "file_extension": ".py",
   "mimetype": "text/x-python",
   "name": "python",
   "nbconvert_exporter": "python",
   "pygments_lexer": "ipython3",
   "version": "3.7.4"
  }
 },
 "nbformat": 4,
 "nbformat_minor": 2
}
